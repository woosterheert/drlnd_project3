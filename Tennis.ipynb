{
 "cells": [
  {
   "cell_type": "code",
   "execution_count": 1,
   "metadata": {},
   "outputs": [],
   "source": [
    "import torch\n",
    "from models import DDPG_Policy_Network, DDPG_Value_Network\n",
    "from utils import Environment, ReplayBuffer, plot_results\n",
    "from agent import Agent\n",
    "import numpy as np"
   ]
  },
  {
   "cell_type": "markdown",
   "metadata": {},
   "source": [
    "# Multi-agent DDPG"
   ]
  },
  {
   "cell_type": "code",
   "execution_count": 2,
   "metadata": {},
   "outputs": [],
   "source": [
    "config = {'lr': 0.001, 'alpha': 0.01, 'update_freq': 10, 'gamma': 0.99,\n",
    "          'tau': 0.001, 'max_nr_steps': 2000, 'n_agents': 2, 'nr_updates': 10, 'noise_scale_init': 1,\n",
    "         'nr_episodes': 2000, 'noise_scale_min': 0.01, 'noise_decl': 0.995, \n",
    "         'output_freq': 100, 'action_boundaries': [-1, 1]}"
   ]
  },
  {
   "cell_type": "code",
   "execution_count": 3,
   "metadata": {},
   "outputs": [
    {
     "name": "stderr",
     "output_type": "stream",
     "text": [
      "INFO:unityagents:\n",
      "'Academy' started successfully!\n",
      "Unity Academy name: Academy\n",
      "        Number of Brains: 1\n",
      "        Number of External Brains : 1\n",
      "        Lesson number : 0\n",
      "        Reset Parameters :\n",
      "\t\t\n",
      "Unity brain name: TennisBrain\n",
      "        Number of Visual Observations (per agent): 0\n",
      "        Vector Observation space type: continuous\n",
      "        Vector Observation space size (per agent): 8\n",
      "        Number of stacked Vector Observation: 3\n",
      "        Vector Action space type: continuous\n",
      "        Vector Action space size (per agent): 2\n",
      "        Vector Action descriptions: , \n"
     ]
    }
   ],
   "source": [
    "tennisWorld = Environment('unity_vector', 'Tennis.app', n_agents=config['n_agents'])"
   ]
  },
  {
   "cell_type": "code",
   "execution_count": 4,
   "metadata": {},
   "outputs": [],
   "source": [
    "online_value_network = DDPG_Value_Network(tennisWorld.observation_space_size, tennisWorld.action_space_size,\n",
    "                    seed=0, hidden_layers=[128,128])\n",
    "target_value_network = DDPG_Value_Network(tennisWorld.observation_space_size, tennisWorld.action_space_size,\n",
    "                     seed=0, hidden_layers=[128,128])\n",
    "online_policy_network = DDPG_Policy_Network(tennisWorld.observation_space_size, tennisWorld.action_space_size,\n",
    "                    seed=0, hidden_layers=[128,128])\n",
    "target_policy_network = DDPG_Policy_Network(tennisWorld.observation_space_size, tennisWorld.action_space_size,\n",
    "                     seed=0, hidden_layers=[128,128])\n",
    "memory = ReplayBuffer(buffer_size=100000, batch_size=256, seed=0)\n",
    "player = Agent(online_value_network, target_value_network, online_policy_network, target_policy_network,\n",
    "               tennisWorld, memory, config, train_mode=True)"
   ]
  },
  {
   "cell_type": "code",
   "execution_count": 6,
   "metadata": {},
   "outputs": [
    {
     "name": "stdout",
     "output_type": "stream",
     "text": [
      "finished episodes 1 - 100 in 49.863059282302856 s. with avg reward 0.09\n",
      "finished episodes 101 - 200 in 52.54570984840393 s. with avg reward 0.1\n",
      "finished episodes 201 - 300 in 57.579754114151 s. with avg reward 0.11\n",
      "finished episodes 301 - 400 in 61.85454988479614 s. with avg reward 0.11\n",
      "finished episodes 401 - 500 in 63.28250288963318 s. with avg reward 0.11\n",
      "finished episodes 501 - 600 in 82.11938095092773 s. with avg reward 0.14\n",
      "finished episodes 601 - 700 in 80.07841300964355 s. with avg reward 0.13\n",
      "finished episodes 701 - 800 in 119.90291118621826 s. with avg reward 0.2\n",
      "finished episodes 801 - 900 in 295.35910511016846 s. with avg reward 0.49\n",
      "finished episodes 901 - 1000 in 197.33229684829712 s. with avg reward 0.33\n",
      "finished episodes 1001 - 1100 in 356.0340459346771 s. with avg reward 0.59\n",
      "finished episodes 1101 - 1200 in 567.8021099567413 s. with avg reward 0.93\n",
      "finished episodes 1201 - 1300 in 626.7571921348572 s. with avg reward 1.01\n",
      "finished episodes 1301 - 1400 in 516.9416909217834 s. with avg reward 0.82\n",
      "finished episodes 1401 - 1500 in 279.7589020729065 s. with avg reward 0.44\n",
      "finished episodes 1501 - 1600 in 384.55879497528076 s. with avg reward 0.61\n",
      "finished episodes 1601 - 1700 in 407.85861587524414 s. with avg reward 0.64\n",
      "finished episodes 1701 - 1800 in 685.2892730236053 s. with avg reward 1.08\n",
      "finished episodes 1801 - 1900 in 458.2454319000244 s. with avg reward 0.71\n",
      "finished episodes 1901 - 2000 in 363.517541885376 s. with avg reward 0.56\n"
     ]
    }
   ],
   "source": [
    "results = player.train()"
   ]
  },
  {
   "cell_type": "markdown",
   "metadata": {},
   "source": [
    "The training has been run twice to collect 4000 episodes. The above printout is from the second run"
   ]
  },
  {
   "cell_type": "code",
   "execution_count": 10,
   "metadata": {},
   "outputs": [],
   "source": [
    "np.save('results.npy', np.vstack(player.all_scores))"
   ]
  },
  {
   "cell_type": "code",
   "execution_count": 15,
   "metadata": {},
   "outputs": [
    {
     "data": {
      "image/png": "[encoded data removed]",
      "text/plain": [
       "<Figure size 432x288 with 1 Axes>"
      ]
     },
     "metadata": {
      "needs_background": "light"
     },
     "output_type": "display_data"
    }
   ],
   "source": [
    "plot_results(np.max(np.vstack(player.all_scores), axis=1), window_size=100, target_score=0.5)"
   ]
  },
  {
   "cell_type": "code",
   "execution_count": 16,
   "metadata": {},
   "outputs": [],
   "source": [
    "torch.save(online_value_network.state_dict(), 'online_value_network.pth')\n",
    "torch.save(target_value_network.state_dict(), 'target_value_network.pth')\n",
    "torch.save(online_policy_network.state_dict(), 'online_policy_network.pth')\n",
    "torch.save(target_policy_network.state_dict(), 'target_policy_network.pth')"
   ]
  }
 ],
 "metadata": {
  "kernelspec": {
   "display_name": "drlnd",
   "language": "python",
   "name": "drlnd"
  },
  "language_info": {
   "codemirror_mode": {
    "name": "ipython",
    "version": 3
   },
   "file_extension": ".py",
   "mimetype": "text/x-python",
   "name": "python",
   "nbconvert_exporter": "python",
   "pygments_lexer": "ipython3",
   "version": "3.6.12"
  }
 },
 "nbformat": 4,
 "nbformat_minor": 4
}
